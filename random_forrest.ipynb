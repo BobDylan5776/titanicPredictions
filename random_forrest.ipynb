{
 "cells": [
  {
   "cell_type": "code",
   "execution_count": 100,
   "id": "initial_id",
   "metadata": {
    "collapsed": true,
    "ExecuteTime": {
     "end_time": "2024-04-12T00:31:27.735501Z",
     "start_time": "2024-04-12T00:31:27.718352Z"
    }
   },
   "outputs": [],
   "source": [
    "from sklearn.ensemble import RandomForestClassifier\n",
    "import pandas as pd"
   ]
  },
  {
   "cell_type": "code",
   "outputs": [],
   "source": [
    "features = ['Age', 'SibSp', 'Parch', 'Pclass', 'Fare', 'Embarked', 'Sex']\n",
    "\n",
    "train_data = pd.read_csv('train.csv')\n",
    "test_data = pd.read_csv('test.csv')"
   ],
   "metadata": {
    "collapsed": false,
    "ExecuteTime": {
     "end_time": "2024-04-12T00:31:27.741990Z",
     "start_time": "2024-04-12T00:31:27.724743Z"
    }
   },
   "id": "18709fd463c813a7",
   "execution_count": 101
  },
  {
   "cell_type": "code",
   "outputs": [
    {
     "name": "stdout",
     "output_type": "stream",
     "text": [
      "<class 'pandas.core.frame.DataFrame'>\n",
      "RangeIndex: 418 entries, 0 to 417\n",
      "Data columns (total 11 columns):\n",
      " #   Column       Non-Null Count  Dtype  \n",
      "---  ------       --------------  -----  \n",
      " 0   PassengerId  418 non-null    int64  \n",
      " 1   Pclass       418 non-null    int64  \n",
      " 2   Name         418 non-null    object \n",
      " 3   Sex          418 non-null    object \n",
      " 4   Age          418 non-null    float64\n",
      " 5   SibSp        418 non-null    int64  \n",
      " 6   Parch        418 non-null    int64  \n",
      " 7   Ticket       418 non-null    object \n",
      " 8   Fare         418 non-null    float64\n",
      " 9   Cabin        91 non-null     object \n",
      " 10  Embarked     418 non-null    object \n",
      "dtypes: float64(2), int64(4), object(5)\n",
      "memory usage: 36.1+ KB\n"
     ]
    }
   ],
   "source": [
    "# Data cleaning\n",
    "train_data['Age'].fillna(train_data.Age.mean(), inplace=True)\n",
    "train_data = train_data[train_data['Embarked'].notna()]\n",
    "\n",
    "test_data['Age'].fillna(test_data.Age.mean(), inplace=True)\n",
    "test_data['Embarked'].fillna('No port', inplace=True)\n",
    "test_data['Fare'].fillna(test_data.Fare.mean(), inplace=True)\n",
    "test_data.info()"
   ],
   "metadata": {
    "collapsed": false,
    "ExecuteTime": {
     "end_time": "2024-04-12T00:31:27.750205Z",
     "start_time": "2024-04-12T00:31:27.742568Z"
    }
   },
   "id": "e0c2b3a09988807",
   "execution_count": 102
  },
  {
   "cell_type": "code",
   "outputs": [],
   "source": [
    "y = train_data['Survived']\n",
    "X = pd.get_dummies(train_data[features])\n",
    "X_test = pd.get_dummies(test_data[features])"
   ],
   "metadata": {
    "collapsed": false,
    "ExecuteTime": {
     "end_time": "2024-04-12T00:31:27.755230Z",
     "start_time": "2024-04-12T00:31:27.751112Z"
    }
   },
   "id": "a90df303da92e077",
   "execution_count": 103
  },
  {
   "cell_type": "code",
   "outputs": [],
   "source": [
    "rfc = RandomForestClassifier(n_estimators=200, max_depth=len(features), random_state=1)\n",
    "rfc.fit(X, y)\n",
    "y_pred = rfc.predict(X_test)\n",
    "output = pd.DataFrame({'PassengerId': test_data.PassengerId, 'Survived': y_pred})\n",
    "output.to_csv('submission.csv', index=False)"
   ],
   "metadata": {
    "collapsed": false,
    "ExecuteTime": {
     "end_time": "2024-04-12T00:31:27.877669Z",
     "start_time": "2024-04-12T00:31:27.757500Z"
    }
   },
   "id": "379c4804c2afdfe4",
   "execution_count": 104
  },
  {
   "cell_type": "code",
   "outputs": [],
   "source": [],
   "metadata": {
    "collapsed": false,
    "ExecuteTime": {
     "end_time": "2024-04-12T00:31:27.879886Z",
     "start_time": "2024-04-12T00:31:27.877784Z"
    }
   },
   "id": "d2ceb93160dc750f",
   "execution_count": 104
  }
 ],
 "metadata": {
  "kernelspec": {
   "display_name": "Python 3",
   "language": "python",
   "name": "python3"
  },
  "language_info": {
   "codemirror_mode": {
    "name": "ipython",
    "version": 2
   },
   "file_extension": ".py",
   "mimetype": "text/x-python",
   "name": "python",
   "nbconvert_exporter": "python",
   "pygments_lexer": "ipython2",
   "version": "2.7.6"
  }
 },
 "nbformat": 4,
 "nbformat_minor": 5
}
